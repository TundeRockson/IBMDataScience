{
 "cells": [
  {
   "cell_type": "markdown",
   "id": "2a616c1e-efaf-466c-b5bf-3bbc60a7a7fb",
   "metadata": {},
   "source": [
    "# Data Science Tools and Ecosystem"
   ]
  },
  {
   "cell_type": "markdown",
   "id": "16f36c4b-3216-4046-a397-7c4e2356024c",
   "metadata": {},
   "source": [
    "In this notebook, Data Science Tools and Ecosystem are summarized."
   ]
  },
  {
   "cell_type": "markdown",
   "id": "83d5e750-a56e-46a3-b69c-b42855cf5ae9",
   "metadata": {},
   "source": [
    "**Objectives:**\n",
    "- List the popular languages that Data Scientists use\n",
    "- List the commonly used libraries used by Data Scientists\n",
    "- Show how to evaluate arithmetic expressions in Python\n",
    "  "
   ]
  },
  {
   "cell_type": "markdown",
   "id": "89653ea7-a787-4942-aa1a-2292ac49f0c6",
   "metadata": {},
   "source": [
    "**Some of the popular languages that Data Scientists use are:**\n",
    "1. Python\n",
    "2. SQL\n",
    "3. R"
   ]
  },
  {
   "cell_type": "markdown",
   "id": "e4c682a1-26ca-44e5-be6c-5b5879c75dbb",
   "metadata": {},
   "source": [
    "**Some of the commonly used libraries used by Data Scientists include:**\n",
    " \n",
    " 1. TensorFlow\n",
    " 2. SciPy\n",
    " 3. NumPy\n",
    " 4. Pandas\n",
    " 5. Pytorch"
   ]
  },
  {
   "cell_type": "markdown",
   "id": "45d0841a-d2cc-4f44-962f-ed2a83695b98",
   "metadata": {},
   "source": [
    "**Data Science Tools**\n",
    "|Data Science Tools|\n",
    "|-|\n",
    "|Jupyter Notebook|\n",
    "|Apache Spark|\n",
    "|RStudio|"
   ]
  },
  {
   "cell_type": "markdown",
   "id": "6d06f7eb-f814-4247-9599-04765bdc631f",
   "metadata": {},
   "source": [
    "### Below are a few examples of evaluating arithmetic expressions in Python"
   ]
  },
  {
   "cell_type": "code",
   "execution_count": 32,
   "id": "df8e2c41-eaf5-4a1e-98b0-9fca5803d35d",
   "metadata": {},
   "outputs": [
    {
     "data": {
      "text/plain": [
       "17"
      ]
     },
     "execution_count": 32,
     "metadata": {},
     "output_type": "execute_result"
    }
   ],
   "source": [
    "# This a simple arithmetic expression to mutiply then add integers\n",
    "(3*4)+5"
   ]
  },
  {
   "cell_type": "code",
   "execution_count": 36,
   "id": "bf9e423d-8519-4f83-835e-a4c6ad36695b",
   "metadata": {},
   "outputs": [
    {
     "name": "stdout",
     "output_type": "stream",
     "text": [
      "3.3333333333333335\n"
     ]
    }
   ],
   "source": [
    "# This will convert 200 minutes to hours by diving by 60\n",
    "print(200 / 60)"
   ]
  },
  {
   "cell_type": "markdown",
   "id": "52b7c582-2305-498f-861f-e3f47415b2bf",
   "metadata": {},
   "source": [
    "## Author\n",
    "Tunde Rockson"
   ]
  }
 ],
 "metadata": {
  "kernelspec": {
   "display_name": "Python [conda env:venv]",
   "language": "python",
   "name": "conda-env-venv-py"
  },
  "language_info": {
   "codemirror_mode": {
    "name": "ipython",
    "version": 3
   },
   "file_extension": ".py",
   "mimetype": "text/x-python",
   "name": "python",
   "nbconvert_exporter": "python",
   "pygments_lexer": "ipython3",
   "version": "3.12.0"
  }
 },
 "nbformat": 4,
 "nbformat_minor": 5
}
